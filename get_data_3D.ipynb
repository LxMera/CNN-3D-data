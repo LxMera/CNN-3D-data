{
  "nbformat": 4,
  "nbformat_minor": 0,
  "metadata": {
    "colab": {
      "name": "get_data 3D.ipynb",
      "provenance": [],
      "mount_file_id": "1ycSNU9KLkkiK_9uAiBsLXhpHyg2Y3Slu",
      "authorship_tag": "ABX9TyNFuQiTM2ZMQdzIQtmRWxJq",
      "include_colab_link": true
    },
    "kernelspec": {
      "name": "python3",
      "display_name": "Python 3"
    },
    "accelerator": "GPU"
  },
  "cells": [
    {
      "cell_type": "markdown",
      "metadata": {
        "id": "view-in-github",
        "colab_type": "text"
      },
      "source": [
        "<a href=\"https://colab.research.google.com/github/LxMera/CNN-3D-data/blob/main/get_data_3D.ipynb\" target=\"_parent\"><img src=\"https://colab.research.google.com/assets/colab-badge.svg\" alt=\"Open In Colab\"/></a>"
      ]
    },
    {
      "cell_type": "code",
      "metadata": {
        "id": "nCdos5KDWgGx"
      },
      "source": [
        "#function ClickConnect(){ console.log(\"Working2\"); document.querySelector(\"colab-toolbar-button#connect\").click() }setInterval(ClickConnect,10000)"
      ],
      "execution_count": 33,
      "outputs": []
    },
    {
      "cell_type": "code",
      "metadata": {
        "id": "9v4sq_XPIvPe"
      },
      "source": [
        "#!mkdir /content/drive/My\\ Drive/rsfMRI"
      ],
      "execution_count": 34,
      "outputs": []
    },
    {
      "cell_type": "code",
      "metadata": {
        "id": "bHWQ3si3L2oV"
      },
      "source": [
        "'''Dirs=['https://www.fmrib.ox.ac.uk/datasets/FIX-training/HCP_hp2000_runs1-20.tar.gz',\n",
        "'https://www.fmrib.ox.ac.uk/datasets/FIX-training/HCP_hp2000_runs21-40.tar.gz',\n",
        "'https://www.fmrib.ox.ac.uk/datasets/FIX-training/HCP_hp2000_runs41-60.tar.gz',\n",
        "'https://www.fmrib.ox.ac.uk/datasets/FIX-training/HCP_hp2000_runs61-80.tar.gz',\n",
        "'https://www.fmrib.ox.ac.uk/datasets/FIX-training/HCP_hp2000_runs81-100.tar.gz',\n",
        "'https://www.fmrib.ox.ac.uk/datasets/FIX-training/HCP_hp2000_run1.tar.gz',\n",
        "'https://www.fmrib.ox.ac.uk/datasets/FIX-training/WhII_MB6.tar.gz',\n",
        "'https://www.fmrib.ox.ac.uk/datasets/FIX-training/WhII_Standard.tar.gz',\n",
        "'https://www.fmrib.ox.ac.uk/datasets/FIX-training/Standard.tar.gz']'''"
      ],
      "execution_count": null,
      "outputs": []
    },
    {
      "cell_type": "code",
      "metadata": {
        "id": "bJSq69ilPnnv",
        "outputId": "a9249a9a-6ceb-4e60-b0d5-6138478a2f1d",
        "colab": {
          "base_uri": "https://localhost:8080/",
          "height": 52
        }
      },
      "source": [
        "'''import os\n",
        "for path in Dirs:\n",
        "  print('Download '+path[path.rfind('/')+1:])\n",
        "  os.system('wget '+path+' -P /content/drive/My\\ Drive/rsfMRI/')\n",
        "  os.system('tar -xzvf /content/drive/My\\ Drive/rsfMRI'+path[path.rfind('/'):]+' -C /content/drive/My\\ Drive/rsfMRI/')\n",
        "  os.system('rm -r /content/drive/My\\ Drive/rsfMRI'+path[path.rfind('/'):])'''"
      ],
      "execution_count": 36,
      "outputs": [
        {
          "output_type": "execute_result",
          "data": {
            "application/vnd.google.colaboratory.intrinsic+json": {
              "type": "string"
            },
            "text/plain": [
              "\"import os\\nfor path in Dirs:\\n  print('Download '+path[path.rfind('/')+1:])\\n  os.system('wget '+path+' -P /content/drive/My\\\\ Drive/rsfMRI/')\\n  os.system('tar -xzvf /content/drive/My\\\\ Drive/rsfMRI'+path[path.rfind('/'):]+' -C /content/drive/My\\\\ Drive/rsfMRI/')\\n  os.system('rm -r /content/drive/My\\\\ Drive/rsfMRI'+path[path.rfind('/'):])\""
            ]
          },
          "metadata": {
            "tags": []
          },
          "execution_count": 36
        }
      ]
    },
    {
      "cell_type": "code",
      "metadata": {
        "id": "ZNxHuhAyE9gO"
      },
      "source": [
        "!pip install  nilearn"
      ],
      "execution_count": null,
      "outputs": []
    },
    {
      "cell_type": "code",
      "metadata": {
        "id": "C1AYZp06RIMT"
      },
      "source": [
        "DirP='/content/drive/My Drive/rsfMRI'\n",
        "Folders=['/HCP_hp2000', '/Standard', '/WhII_MB6', '/WhII_Standard']"
      ],
      "execution_count": 38,
      "outputs": []
    },
    {
      "cell_type": "code",
      "metadata": {
        "id": "mqCIjR-ETrfE"
      },
      "source": [
        "import glob\n",
        "import numpy as np\n",
        "import matplotlib.pyplot as plt\n",
        "from nilearn import image\n",
        "import cv2\n",
        "\n",
        "conver=np.vectorize(int)"
      ],
      "execution_count": 39,
      "outputs": []
    },
    {
      "cell_type": "code",
      "metadata": {
        "id": "dGrWDre8TuLj",
        "outputId": "c78ed022-01eb-402a-8b21-f03a4000d1e5",
        "colab": {
          "base_uri": "https://localhost:8080/",
          "height": 102
        }
      },
      "source": [
        "suball=[]\n",
        "for fold in enumerate(Folders):\n",
        "  Subjets=glob.glob(DirP+fold[1]+'/*')\n",
        "  if fold[0]==0:\n",
        "    suball=Subjets\n",
        "  else:\n",
        "    suball=np.concatenate((suball,Subjets))\n",
        "\n",
        "  print(np.shape(Subjets)[0],' subjets in the folder '+ fold[1])\n",
        "print(np.shape(suball))"
      ],
      "execution_count": 40,
      "outputs": [
        {
          "output_type": "stream",
          "text": [
            "100  subjets in the folder /HCP_hp2000\n",
            "106  subjets in the folder /Standard\n",
            "39  subjets in the folder /WhII_MB6\n",
            "45  subjets in the folder /WhII_Standard\n",
            "(290,)\n"
          ],
          "name": "stdout"
        }
      ]
    },
    {
      "cell_type": "code",
      "metadata": {
        "id": "NP-KUEY0B2O-"
      },
      "source": [
        "def get_time_series(path, matrix=False):\n",
        "  series=np.loadtxt(path+'/filtered_func_data.ica/melodic_mix')\n",
        "  time_points, ICs=np.shape(series)\n",
        "  if matrix:\n",
        "    return ICs,  time_points, series\n",
        "  else:\n",
        "    return ICs"
      ],
      "execution_count": 41,
      "outputs": []
    },
    {
      "cell_type": "code",
      "metadata": {
        "id": "pLZqZFz9D3F2"
      },
      "source": [
        "def get_maps_ica(path):\n",
        "  ima_gz=image.image.load_img(path+'/filtered_func_data.ica/melodic_IC.nii.gz')\n",
        "  maps_ica=ima_gz.get_fdata()\n",
        "  return(maps_ica)"
      ],
      "execution_count": 42,
      "outputs": []
    },
    {
      "cell_type": "code",
      "metadata": {
        "id": "PAZ7h__jpyX-"
      },
      "source": [
        "def vector_hand_labels_noise(path, n_comp):\n",
        "  label=np.ones(n_comp)\n",
        "  f = open(sub+\"/hand_labels_noise.txt\")\n",
        "  while True:\n",
        "    line = f.readline()\n",
        "    if line=='':\n",
        "      break\n",
        "    handClas=line[1:-2]\n",
        "  handClas= handClas.split(\", \")\n",
        "  handClas=conver(handClas)-1\n",
        "  label[handClas]=0\n",
        "  f.close()\n",
        "  return label"
      ],
      "execution_count": 43,
      "outputs": []
    },
    {
      "cell_type": "code",
      "metadata": {
        "id": "mG1PmtwZ77-A"
      },
      "source": [
        "def contour_like_vector(im_var):\n",
        "  im_bin=np.array((im_var!=im_var[0,0]), np.dtype('uint8'))\n",
        "  contours,_ = cv2.findContours(im_bin,cv2.RETR_EXTERNAL,cv2.CHAIN_APPROX_NONE)\n",
        "  ind=0\n",
        "  if np.shape(contours)[0]!=1:\n",
        "    areas=[]\n",
        "    for xi in range(np.shape(contours)[0]):\n",
        "      area=cv2.contourArea(contours[xi])\n",
        "      areas.append(area)\n",
        "    ind=np.argmax(areas)\n",
        "  cont=contours[ind]\n",
        "  rectangle=cv2.boundingRect(cont)\n",
        "  return rectangle"
      ],
      "execution_count": 44,
      "outputs": []
    },
    {
      "cell_type": "code",
      "metadata": {
        "id": "OnsYfp8a-9Ue"
      },
      "source": [
        "#this function is to determine volume axes and to verified if don't exist mistakes\n",
        "def get_axis(minx):\n",
        "  Paxi=minx[0]\n",
        "  Pcor=minx[1]\n",
        "  Psag=minx[2]\n",
        "  sg=Ds=cr=Dc=ax=Dx=0\n",
        "\n",
        "  if Paxi[1]==Pcor[1] and Paxi[3]==Pcor[3]:\n",
        "    sg=Paxi[1]\n",
        "    Ds=Paxi[3]\n",
        "  else:\n",
        "    sg=np.min((Paxi[1],Pcor[1]))\n",
        "    Ds=np.max((Paxi[3],Pcor[3]))\n",
        "\n",
        "  if Paxi[0]==Psag[1] and Paxi[2]==Psag[3]:\n",
        "    cr=Paxi[0]\n",
        "    Dc=Paxi[2]\n",
        "  else:\n",
        "    cr=np.min((Paxi[0],Psag[1]))\n",
        "    Dc=np.max((Paxi[2],Psag[3]))\n",
        "\n",
        "  if Psag[0]==Pcor[0] and Psag[2]==Pcor[2]:\n",
        "    ax=Pcor[0]\n",
        "    Dx=Pcor[2]\n",
        "  else:\n",
        "    ax=np.min((Psag[0],Pcor[0]))\n",
        "    Dx=np.max((Psag[2],Pcor[2]))\n",
        "\n",
        "  return sg, sg+Ds, cr,cr+Dc, ax, ax+Dx"
      ],
      "execution_count": 45,
      "outputs": []
    },
    {
      "cell_type": "code",
      "metadata": {
        "id": "fWgS_Ev21q2m"
      },
      "source": [
        "def brain_region(mps, plot_slice=False):\n",
        "  sx, cy, az, n_comp = np.shape(mps)\n",
        "  varx=np.zeros((cy,az))\n",
        "  vary=np.zeros((sx,az))\n",
        "  varz=np.zeros((sx,cy))\n",
        "\n",
        "  for ncp in range(n_comp):\n",
        "    varx=varx+np.var(mps[:,:,:,ncp], axis=0)\n",
        "    vary=vary+np.var(mps[:,:,:,ncp], axis=1)\n",
        "    varz=varz+np.var(mps[:,:,:,ncp], axis=2)\n",
        "\n",
        "  conx=contour_like_vector(varx)\n",
        "  cony=contour_like_vector(vary)\n",
        "  conz=contour_like_vector(varz)\n",
        "\n",
        "  roi_3d=get_axis((conz,cony,conx))\n",
        "\n",
        "  if plot_slice:\n",
        "    plt.imshow(varx)\n",
        "    plt.figure()\n",
        "    plt.imshow(vary)\n",
        "    plt.figure()\n",
        "    plt.imshow(varz)\n",
        "\n",
        "  return roi_3d"
      ],
      "execution_count": 46,
      "outputs": []
    },
    {
      "cell_type": "code",
      "metadata": {
        "id": "M-cVcsV5dLeW"
      },
      "source": [
        "from scipy.ndimage import zoom\n",
        "def adjust_volume(mps, SAG=57, COR=73, AXI=57):\n",
        "  roi=brain_region(mps)\n",
        "  mps=mps[roi[0]:roi[1],roi[2]:roi[3],roi[4]:roi[5],:]\n",
        "  x0,y0,z0,_=np.shape(mps)\n",
        "  mp = zoom(mps, (SAG/x0, COR/y0, AXI/z0, 1))\n",
        "  mp = np.transpose(mp)\n",
        "  return mp"
      ],
      "execution_count": 47,
      "outputs": []
    },
    {
      "cell_type": "code",
      "metadata": {
        "id": "25NUOOWRsJKR",
        "outputId": "70a062e9-e713-47c4-92bf-14b0fa959216",
        "colab": {
          "base_uri": "https://localhost:8080/",
          "height": 68
        }
      },
      "source": [
        "sub=suball[0]\n",
        "ics,t_p, series=get_time_series(sub, True)\n",
        "noise=vector_hand_labels_noise(sub, ics)\n",
        "maps=get_maps_ica(sub)\n",
        "maps=adjust_volume(maps)\n",
        "\n",
        "print('time points: ', t_p)\n",
        "print('Number of independent componets: ', ics)\n",
        "print('Shape of map: ',  np.shape(maps))"
      ],
      "execution_count": 48,
      "outputs": [
        {
          "output_type": "stream",
          "text": [
            "time points:  1200\n",
            "Number of independent componets:  250\n",
            "Shape of map:  (250, 57, 73, 57)\n"
          ],
          "name": "stdout"
        }
      ]
    },
    {
      "cell_type": "code",
      "metadata": {
        "id": "Yosj9B7JF0RS"
      },
      "source": [
        "import scipy.io as sio\n",
        "outpath='/content/drive/My Drive/rsfMRI/Comprimidos/'"
      ],
      "execution_count": 49,
      "outputs": []
    },
    {
      "cell_type": "code",
      "metadata": {
        "id": "jsT3sCkXBYHP",
        "outputId": "718c890e-c712-47f7-a01a-e039d269d000",
        "colab": {
          "base_uri": "https://localhost:8080/",
          "height": 119
        }
      },
      "source": [
        "for sub in suball[206:]:\n",
        "  print(sub[31:].replace('/','-').replace('ica','mat'))\n",
        "\n",
        "  ics,t_p, series=get_time_series(sub, True)\n",
        "  Y_train=vector_hand_labels_noise(sub, ics)\n",
        "  maps=get_maps_ica(sub)\n",
        "  X_train=adjust_volume(maps)\n",
        "  \n",
        "  sio.savemat(outpath+sub[31:].replace('/','-').replace('ica','mat'), {'maps': X_train, 'labels': Y_train, 'times': series})"
      ],
      "execution_count": null,
      "outputs": [
        {
          "output_type": "stream",
          "text": [
            "WhII_MB6-2.mat\n",
            "WhII_MB6-3.mat\n",
            "WhII_MB6-4.mat\n",
            "WhII_MB6-5.mat\n",
            "WhII_MB6-6.mat\n",
            "WhII_MB6-7.mat\n"
          ],
          "name": "stdout"
        }
      ]
    }
  ]
}